{
 "cells": [
  {
   "cell_type": "markdown",
   "id": "5a0465ac",
   "metadata": {},
   "source": [
    "# Data Integration\n",
    "\n",
    "There are multiple sources of data and they have to be integrated together in a single file.\n",
    "\n",
    "* program.csv\n",
    "* university.csv\n",
    "* **qs-rankings/qs-total.json** : Overall ranking of QS\n",
    "* **qs-rankings/qs-cse.json** : QS ranking of Computer Science and Information Systems\n",
    "* **qs-rankings/qs-hum.json** : QS ranking of Art & Humanities\n",
    "\n",
    "`program.csv` and `university.csv` are basically derived from [Offical recruit sheet file](2022-2-exchange-univ.csv). In addition, other fact data is collected from websites.\n",
    "`qs-*.json` files came from [QS rankings](https://www.topuniversities.com).\n",
    "On their website, data were collected by this [script](qs-crawling.js) which is executed mannually on the development console."
   ]
  },
  {
   "cell_type": "markdown",
   "id": "d9b2e290",
   "metadata": {},
   "source": [
    "## JSON to CSV\n",
    "\n",
    "JSON files of QS rankings are seperated, so they are joined together in a single file."
   ]
  }
 ],
 "metadata": {
  "kernelspec": {
   "display_name": "Python 3 (ipykernel)",
   "language": "python",
   "name": "python3"
  },
  "language_info": {
   "codemirror_mode": {
    "name": "ipython",
    "version": 3
   },
   "file_extension": ".py",
   "mimetype": "text/x-python",
   "name": "python",
   "nbconvert_exporter": "python",
   "pygments_lexer": "ipython3",
   "version": "3.8.9"
  }
 },
 "nbformat": 4,
 "nbformat_minor": 5
}
